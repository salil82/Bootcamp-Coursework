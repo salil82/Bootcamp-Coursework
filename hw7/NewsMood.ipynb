{
 "cells": [
  {
   "cell_type": "code",
   "execution_count": null,
   "metadata": {},
   "outputs": [],
   "source": [
    "# Dependencies\n",
    "import tweepy\n",
    "import numpy as np\n",
    "import pandas as pd\n",
    "import seaborn as sns\n",
    "from datetime import datetime\n",
    "import matplotlib.pyplot as plt\n",
    "\n",
    "# Import and Initialize Sentiment Analyzer\n",
    "from vaderSentiment.vaderSentiment import SentimentIntensityAnalyzer\n",
    "analyzer = SentimentIntensityAnalyzer()\n",
    "\n",
    "# Twitter API Keys\n",
    "from config import (consumer_key, \n",
    "                    consumer_secret, \n",
    "                    access_token, \n",
    "                    access_token_secret)\n",
    "\n",
    "# Setup Tweepy API Authentication\n",
    "auth = tweepy.OAuthHandler(consumer_key, consumer_secret)\n",
    "auth.set_access_token(access_token, access_token_secret)\n",
    "api = tweepy.API(auth, parser=tweepy.parsers.JSONParser())"
   ]
  },
  {
   "cell_type": "code",
   "execution_count": null,
   "metadata": {},
   "outputs": [],
   "source": [
    "# Target Accounts: BBC News, CBS News, CNN, Fox News, and The New York Times\n",
    "target_users = (\"@BBCWorld\", \"@CBSNews\", \"@CNN\", \"@FoxNews\", \"@nytimes\")\n",
    "news_orgs = ['BBC World', 'CBS News', 'CNN', 'Fox News', 'New York Times']"
   ]
  },
  {
   "cell_type": "code",
   "execution_count": null,
   "metadata": {},
   "outputs": [],
   "source": [
    "# Initialize list of dataframes\n",
    "df_list = []\n",
    "\n",
    "# Loop through each target_user\n",
    "for target_user in target_users:  \n",
    "    counter = 1 \n",
    "    sentiments = []\n",
    "    oldest_tweet = None \n",
    "    \n",
    "# Loop through 5 pages of 20 tweets to collect sentiment scores\n",
    "    for x in range(5):\n",
    "        public_tweets = api.user_timeline(target_user, max_id = oldest_tweet)\n",
    "\n",
    "        # Analyzing sentiment scores\n",
    "        for tweet in public_tweets:\n",
    "            results = analyzer.polarity_scores(tweet[\"text\"])\n",
    "            compound = results[\"compound\"]\n",
    "            pos = results[\"pos\"]\n",
    "            neu = results[\"neu\"]\n",
    "            neg = results[\"neg\"]\n",
    "            tweets_ago = counter\n",
    "\n",
    "            oldest_tweet = tweet['id'] - 1\n",
    "\n",
    "            sentiments.append({\"Date\": tweet[\"created_at\"], \n",
    "                               \"Compound\": compound,\n",
    "                               \"Positive\": pos,\n",
    "                               \"Negative\": neu,\n",
    "                               \"Neutral\": neg,\n",
    "                               \"Tweets Ago\": counter}) \n",
    "            counter += 1\n",
    "\n",
    "# Create DataFrame and append each to df_list\n",
    "    sentiments_pd = pd.DataFrame.from_dict(sentiments)\n",
    "    df_list.append(sentiments_pd)"
   ]
  },
  {
   "cell_type": "code",
   "execution_count": null,
   "metadata": {},
   "outputs": [],
   "source": [
    "# Add column with news org\n",
    "x = 0\n",
    "for i in news_orgs:\n",
    "    df_list[x]['News Organization'] = i\n",
    "    x += 1\n",
    "\n",
    "# Use df_list to create total DataFrame\n",
    "df_list_concat = [df_list[i] for i in range(len(df_list))]\n",
    "df = pd.concat(df_list_concat)\n",
    "\n",
    "df.to_csv('NewsMood.csv')"
   ]
  },
  {
   "cell_type": "code",
   "execution_count": null,
   "metadata": {},
   "outputs": [],
   "source": [
    "col = ['skyblue', 'green', 'orange', 'blue', 'yellow']\n",
    "f = plt.figure(figsize=(10,5))\n",
    "ax = f.add_subplot(111)\n",
    "\n",
    "sns.set_style('darkgrid')\n",
    "\n",
    "for i in range(len(df_list)):\n",
    "    ax.scatter(df_list[i]['Tweets Ago'], df_list[i]['Compound'],\n",
    "               color = col[i],\n",
    "               edgecolor='black',\n",
    "               alpha= 0.9,\n",
    "               s=100)\n",
    "\n",
    "plt.title('Sentiment Analysis of Media Tweets')\n",
    "plt.xlabel('Tweets Ago')\n",
    "plt.ylabel('Tweet Polarity')\n",
    "plt.yticks([-1, -0.5, 0, 0.5, 1])\n",
    "\n",
    "plt.legend(labels = news_orgs,\n",
    "          bbox_to_anchor=(1, 1),\n",
    "          title='Media Sources',\n",
    "          frameon=False)\n",
    "\n",
    "plt.savefig('NewsMoodSentiments.png')\n",
    "plt.show()"
   ]
  },
  {
   "cell_type": "code",
   "execution_count": null,
   "metadata": {},
   "outputs": [],
   "source": [
    "means = df.groupby('News Organization')['Compound'].mean()\n",
    "means"
   ]
  },
  {
   "cell_type": "code",
   "execution_count": null,
   "metadata": {},
   "outputs": [],
   "source": [
    "sns.barplot(x=news_orgs, y=means)\n",
    "sns.set_style(\"darkgrid\")\n",
    "\n",
    "plt.xlabel('Media Outlets')\n",
    "plt.ylabel('Tweet Polarity')\n",
    "plt.title(f'Overall Sentiment based on Twitter')\n",
    "plt.savefig('OverallSentiment.png')"
   ]
  },
  {
   "cell_type": "code",
   "execution_count": null,
   "metadata": {},
   "outputs": [],
   "source": []
  }
 ],
 "metadata": {
  "kernelspec": {
   "display_name": "Python 3",
   "language": "python",
   "name": "python3"
  },
  "language_info": {
   "codemirror_mode": {
    "name": "ipython",
    "version": 3
   },
   "file_extension": ".py",
   "mimetype": "text/x-python",
   "name": "python",
   "nbconvert_exporter": "python",
   "pygments_lexer": "ipython3",
   "version": "3.6.4"
  }
 },
 "nbformat": 4,
 "nbformat_minor": 2
}
